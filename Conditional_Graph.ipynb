{
 "cells": [
  {
   "cell_type": "code",
   "execution_count": 2,
   "id": "1146ec56",
   "metadata": {},
   "outputs": [],
   "source": [
    "from typing import TypedDict, Dict\n",
    "from langgraph.graph import StateGraph, START, END"
   ]
  },
  {
   "cell_type": "code",
   "execution_count": 5,
   "id": "d76f6ba8",
   "metadata": {},
   "outputs": [],
   "source": [
    "class AgentState(TypedDict):\n",
    "    number1: int\n",
    "    operation: str\n",
    "    number2: int\n",
    "    finalnumber: int"
   ]
  },
  {
   "cell_type": "code",
   "execution_count": 17,
   "id": "54fe094e",
   "metadata": {},
   "outputs": [],
   "source": [
    "def adder(state: AgentState) -> AgentState:\n",
    "     \"\"\"This node adds the 2 numbers\"\"\"\n",
    "\n",
    "     state[\"finalnumber\"] = state['number1'] + state[\"number2\"]\n",
    "     return state\n",
    "\n",
    "def subtractor(state:AgentState) -> AgentState:\n",
    "    \"\"\"This node subtracts the 2 numbers\"\"\"\n",
    "    state[\"finalnumber\"] = state[\"number1\"] - state[\"number2\"]\n",
    "    return state\n",
    "\n",
    "def decide_next_node(state: AgentState)-> AgentState:\n",
    "    \"\"\"This node will select the next node of the graph\"\"\"\n",
    "\n",
    "    if state[\"operation\"]== \"+\":\n",
    "        return \"addition_operation\"\n",
    "    \n",
    "    elif state[\"operation\"] == \"-\":\n",
    "      return \"subtraction_operation\""
   ]
  },
  {
   "cell_type": "code",
   "execution_count": 18,
   "id": "f385b56b",
   "metadata": {},
   "outputs": [],
   "source": [
    "graph = StateGraph(AgentState)\n",
    "\n",
    "#NODES\n",
    "graph.add_node(\"add_node\", adder)\n",
    "graph.add_node(\"subtract_node\", subtractor)\n",
    "graph.add_node(\"router\", lambda state:state) #passthrough function\n",
    "\n",
    "#EDGE\n",
    "graph.add_edge(START, \"router\")\n",
    "\n",
    "#CONDITIONAL EDGES\n",
    "graph.add_conditional_edges(\n",
    "    \"router\",\n",
    "    decide_next_node,\n",
    "    {\n",
    "        # Edge: Node\n",
    "        \"addition_operation\": \"add_node\",\n",
    "        \"subtraction_operation\": \"subtract_node\"\n",
    "    }\n",
    ")\n",
    "\n",
    "graph.add_edge(\"add_node\", END)\n",
    "graph.add_edge(\"subtract_node\", END)\n",
    "\n",
    "app=graph.compile()"
   ]
  },
  {
   "cell_type": "code",
   "execution_count": 19,
   "id": "4f2e0711",
   "metadata": {},
   "outputs": [
    {
     "data": {
      "image/png": "[encoded data removed]",
      "text/plain": [
       "<IPython.core.display.Image object>"
      ]
     },
     "metadata": {},
     "output_type": "display_data"
    }
   ],
   "source": [
    "from IPython.display import Image, display\n",
    "\n",
    "display(Image(app.get_graph().draw_mermaid_png()))"
   ]
  },
  {
   "cell_type": "code",
   "execution_count": 21,
   "id": "2af9cf9b",
   "metadata": {},
   "outputs": [
    {
     "data": {
      "text/plain": [
       "{'number1': 10, 'operation': '-', 'number2': 2, 'finalnumber': 8}"
      ]
     },
     "execution_count": 21,
     "metadata": {},
     "output_type": "execute_result"
    }
   ],
   "source": [
    "state1 = AgentState(number1=10, number2=2, operation=\"-\")\n",
    "\n",
    "app.invoke(state1)"
   ]
  },
  {
   "cell_type": "code",
   "execution_count": 23,
   "id": "294c80e7",
   "metadata": {},
   "outputs": [
    {
     "data": {
      "text/plain": [
       "{'number1': 10, 'operation': '-', 'number2': 2, 'finalnumber': 8}"
      ]
     },
     "execution_count": 23,
     "metadata": {},
     "output_type": "execute_result"
    }
   ],
   "source": [
    "initial_state_1 = {'number1': 10, 'operation': '-', 'number2': 2}\n",
    "app.invoke(initial_state_1)"
   ]
  },
  {
   "cell_type": "markdown",
   "id": "7d24d7f8",
   "metadata": {},
   "source": [
    "# Exercise:"
   ]
  },
  {
   "cell_type": "code",
   "execution_count": 24,
   "id": "0a5a6f10",
   "metadata": {},
   "outputs": [],
   "source": [
    "from typing import TypedDict, Dict\n",
    "from langgraph.graph import StateGraph, START, END"
   ]
  },
  {
   "cell_type": "code",
   "execution_count": 28,
   "id": "629184f9",
   "metadata": {},
   "outputs": [],
   "source": [
    "class AgentState(TypedDict):\n",
    "    number1: int\n",
    "    number2: int\n",
    "    number3: int\n",
    "    number4: int\n",
    "    operation1 : str\n",
    "    operation2: str\n",
    "    result1: int\n",
    "    result2: int\n"
   ]
  },
  {
   "cell_type": "code",
   "execution_count": 31,
   "id": "167f5ab0",
   "metadata": {},
   "outputs": [],
   "source": [
    "def adder1 (state: AgentState) -> AgentState:\n",
    "    state[\"result1\"] = state[\"number1\"] + state[\"number2\"]\n",
    "    return state\n",
    "\n",
    "def adder2 (state: AgentState) -> AgentState:\n",
    "    state[\"result1\"] = state[\"number3\"] + state[\"number4\"]\n",
    "    return state\n",
    "\n",
    "def sub1 (state: AgentState) -> AgentState:\n",
    "    state[\"result2\"] = state[\"number1\"] - state[\"number2\"]\n",
    "    return state\n",
    "\n",
    "def sub2 (state: AgentState) -> AgentState:\n",
    "    state[\"result2\"] = state[\"number3\"] - state[\"number4\"]\n",
    "    return state\n",
    "\n",
    "def decide_next_node1(state:AgentState):\n",
    "    if state[\"operation1\"] == \"+\":\n",
    "        return \"add_edge1\"\n",
    "    else:\n",
    "        return \"sub_edge1\"\n",
    "    \n",
    "def decide_next_node2(state: AgentState):\n",
    "    if state[\"operation2\"] == \"+\":\n",
    "        return \"add_edge2\"\n",
    "    else:\n",
    "        return \"sub_edge2\""
   ]
  },
  {
   "cell_type": "code",
   "execution_count": 35,
   "id": "52af4e4b",
   "metadata": {},
   "outputs": [],
   "source": [
    "graph= StateGraph(AgentState)\n",
    "\n",
    "graph.add_node(\"router1\", lambda state: state)\n",
    "graph.add_node(\"router2\", lambda state: state)\n",
    "graph.add_node(\"adder1_node\", adder1)\n",
    "graph.add_node(\"adder2_node\", adder2)\n",
    "graph.add_node(\"sub1_node\", sub1)\n",
    "graph.add_node(\"sub2_node\", sub2)\n",
    "\n",
    "graph.add_conditional_edges(\n",
    "    \"router1\",\n",
    "    decide_next_node1,\n",
    "    \n",
    "    {\n",
    "     \"add_edge1\": \"adder1_node\",\n",
    "     \"sub_edge1\": \"sub1_node\"\n",
    "     }\n",
    "    )\n",
    "\n",
    "graph.add_conditional_edges(\n",
    "    \"router2\",\n",
    "    decide_next_node2,\n",
    "    {\n",
    "        \"add_edge2\": \"adder2_node\",\n",
    "        \"sub_edge2\": \"sub2_node\"\n",
    "    }\n",
    ")\n",
    "\n",
    "graph.add_edge(START, \"router1\")\n",
    "graph.add_edge(\"adder1_node\", \"router2\")\n",
    "graph.add_edge(\"sub1_node\", \"router2\")\n",
    "\n",
    "graph.add_edge(\"adder2_node\", END)\n",
    "graph.add_edge(\"sub2_node\", END)\n",
    "\n",
    "\n",
    "app=graph.compile()"
   ]
  },
  {
   "cell_type": "code",
   "execution_count": 36,
   "id": "67a705ac",
   "metadata": {},
   "outputs": [],
   "source": [
    "state = {\n",
    "    'number1': 5,\n",
    "    'number2': 2,\n",
    "    'number3': 8,\n",
    "    'number4': 4,\n",
    "    'operation1' : \"+\",\n",
    "    'operation2': \"-\"\n",
    "}"
   ]
  },
  {
   "cell_type": "code",
   "execution_count": 37,
   "id": "f996a04b",
   "metadata": {},
   "outputs": [
    {
     "data": {
      "text/plain": [
       "{'number1': 5,\n",
       " 'number2': 2,\n",
       " 'number3': 8,\n",
       " 'number4': 4,\n",
       " 'operation1': '+',\n",
       " 'operation2': '-',\n",
       " 'result1': 7,\n",
       " 'result2': 4}"
      ]
     },
     "execution_count": 37,
     "metadata": {},
     "output_type": "execute_result"
    }
   ],
   "source": [
    "app.invoke(state)"
   ]
  },
  {
   "cell_type": "code",
   "execution_count": 38,
   "id": "17beae06",
   "metadata": {},
   "outputs": [
    {
     "data": {
      "image/png": "[encoded data removed]",
      "text/plain": [
       "<IPython.core.display.Image object>"
      ]
     },
     "metadata": {},
     "output_type": "display_data"
    }
   ],
   "source": [
    "from IPython.display import Image, display\n",
    "\n",
    "display(Image(app.get_graph().draw_mermaid_png()))"
   ]
  }
 ],
 "metadata": {
  "kernelspec": {
   "display_name": "Python 3",
   "language": "python",
   "name": "python3"
  },
  "language_info": {
   "codemirror_mode": {
    "name": "ipython",
    "version": 3
   },
   "file_extension": ".py",
   "mimetype": "text/x-python",
   "name": "python",
   "nbconvert_exporter": "python",
   "pygments_lexer": "ipython3",
   "version": "3.10.16"
  }
 },
 "nbformat": 4,
 "nbformat_minor": 5
}
