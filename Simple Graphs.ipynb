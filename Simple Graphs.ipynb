{
 "cells": [
  {
   "cell_type": "markdown",
   "id": "d75c6cd3",
   "metadata": {},
   "source": [
    "## Graph with Single Inputs:"
   ]
  },
  {
   "cell_type": "code",
   "execution_count": 2,
   "id": "104d2d6d",
   "metadata": {},
   "outputs": [],
   "source": [
    "from typing import Dict, TypedDict\n",
    "from langgraph.graph import StateGraph # framework that helps you design and manage the flow of tasks in your application using a graph structure"
   ]
  },
  {
   "cell_type": "code",
   "execution_count": 4,
   "id": "c5b18ac6",
   "metadata": {},
   "outputs": [],
   "source": [
    " #We now create an AgentState - shared data structure that keeps track of information as your application runs. \n",
    "\n",
    "class AgentState(TypedDict): # Our state schema\n",
    "    message : str \n",
    "\n",
    "def greeting_node(state: AgentState) -> AgentState:\n",
    "    \"\"\"simple node that adds a greetig method to the satte\"\"\"\n",
    "\n",
    "    state['message'] = \"Hey \" + state[\"message\"] + \", how is your day going?\"\n",
    "    return state\n"
   ]
  },
  {
   "cell_type": "code",
   "execution_count": 5,
   "id": "7b411905",
   "metadata": {},
   "outputs": [],
   "source": [
    "graph = StateGraph(AgentState)\n",
    "\n",
    "graph.add_node(\"greeter\", greeting_node)\n",
    "\n",
    "graph.set_entry_point(\"greeter\")\n",
    "graph.set_finish_point(\"greeter\")\n",
    "\n",
    "app = graph.compile()"
   ]
  },
  {
   "cell_type": "code",
   "execution_count": 8,
   "id": "68c04f0e",
   "metadata": {},
   "outputs": [
    {
     "data": {
      "image/png": "[encoded data removed]",
      "text/plain": [
       "<IPython.core.display.Image object>"
      ]
     },
     "metadata": {},
     "output_type": "display_data"
    }
   ],
   "source": [
    "from IPython.display import Image, display\n",
    "display(Image(app.get_graph().draw_mermaid_png()))"
   ]
  },
  {
   "cell_type": "markdown",
   "id": "ce9834a8",
   "metadata": {},
   "source": [
    "# Graph with Multiple Inputs:"
   ]
  },
  {
   "cell_type": "code",
   "execution_count": 23,
   "id": "76a7ad83",
   "metadata": {},
   "outputs": [],
   "source": [
    "from typing import TypedDict, List\n",
    "from langgraph.graph import StateGraph "
   ]
  },
  {
   "cell_type": "code",
   "execution_count": 24,
   "id": "eb547c39",
   "metadata": {},
   "outputs": [],
   "source": [
    "class AgentState(TypedDict):\n",
    "    values : List[int]\n",
    "    name : str\n",
    "    result : str"
   ]
  },
  {
   "cell_type": "markdown",
   "id": "0a130666",
   "metadata": {},
   "source": [
    "### Node: "
   ]
  },
  {
   "cell_type": "code",
   "execution_count": 26,
   "id": "46a1ba9a",
   "metadata": {},
   "outputs": [],
   "source": [
    "def process_values(state: AgentState) -> AgentState:\n",
    "    \"\"\"This function handles multiple different inputs\"\"\"\n",
    "\n",
    "    state['result'] = f\"Hi there {state['name']}! Your sum = {sum(state['values'])}\"\n",
    "    return state"
   ]
  },
  {
   "cell_type": "markdown",
   "id": "aa58d4cb",
   "metadata": {},
   "source": [
    "## Create graph"
   ]
  },
  {
   "cell_type": "code",
   "execution_count": 27,
   "id": "dc4e495b",
   "metadata": {},
   "outputs": [],
   "source": [
    "graph = StateGraph(AgentState)\n",
    "\n",
    "graph.add_node(\"sum\", process_values)\n",
    "\n",
    "graph.set_entry_point(\"sum\")\n",
    "graph.set_finish_point(\"sum\")\n",
    "\n",
    "app= graph.compile()"
   ]
  },
  {
   "cell_type": "code",
   "execution_count": 28,
   "id": "4c801169",
   "metadata": {},
   "outputs": [
    {
     "data": {
      "image/png": "[encoded data removed]",
      "text/plain": [
       "<IPython.core.display.Image object>"
      ]
     },
     "metadata": {},
     "output_type": "display_data"
    }
   ],
   "source": [
    "from IPython.display import Image, display\n",
    "display(Image(app.get_graph().draw_mermaid_png()))"
   ]
  },
  {
   "cell_type": "markdown",
   "id": "edddfd51",
   "metadata": {},
   "source": [
    "## Invoke"
   ]
  },
  {
   "cell_type": "code",
   "execution_count": 30,
   "id": "b7faebd9",
   "metadata": {},
   "outputs": [
    {
     "data": {
      "text/plain": [
       "'Hi there Steve! Your sum = 15'"
      ]
     },
     "execution_count": 30,
     "metadata": {},
     "output_type": "execute_result"
    }
   ],
   "source": [
    "result = app.invoke({\"values\": [1,2,3,4,5], \"name\": \"Steve\"})\n",
    "result['result']"
   ]
  },
  {
   "cell_type": "code",
   "execution_count": 31,
   "id": "bd4d95b3",
   "metadata": {},
   "outputs": [
    {
     "data": {
      "text/plain": [
       "{'values': [1, 2, 3, 4, 5],\n",
       " 'name': 'Steve',\n",
       " 'result': 'Hi there Steve! Your sum = 15'}"
      ]
     },
     "execution_count": 31,
     "metadata": {},
     "output_type": "execute_result"
    }
   ],
   "source": [
    "result"
   ]
  },
  {
   "cell_type": "markdown",
   "id": "66116812",
   "metadata": {},
   "source": [
    "## Task"
   ]
  },
  {
   "cell_type": "code",
   "execution_count": null,
   "id": "4e628a88",
   "metadata": {},
   "outputs": [],
   "source": [
    "import math\n",
    "\n",
    "class AgentState(TypedDict):\n",
    "    name : str\n",
    "    values: List[int]\n",
    "    operation : str\n",
    "    result : str\n",
    "\n",
    "def operation(state: AgentState):\n",
    "    if state['operation'] == \"*\":\n",
    "        state[\"result\"] = f\"Hey {state['name']}, your multiplication is {math.prod(state['values'])}\"\n",
    "    else:\n",
    "        state[\"result\"] = f\"Hey {state['name']}, your sum is {sum(state['values'])}\"\n",
    "    return state"
   ]
  },
  {
   "cell_type": "code",
   "execution_count": 36,
   "id": "c51156b3",
   "metadata": {},
   "outputs": [
    {
     "data": {
      "text/plain": [
       "{'name': 'John',\n",
       " 'values': [1, 2, 3, 4],\n",
       " 'operation': '*',\n",
       " 'result': 'Hey John, your multiplication is 24'}"
      ]
     },
     "execution_count": 36,
     "metadata": {},
     "output_type": "execute_result"
    }
   ],
   "source": [
    "graph = StateGraph(AgentState)\n",
    "\n",
    "graph.add_node(\"operation\", operation)\n",
    "\n",
    "graph.set_entry_point(\"operation\")\n",
    "graph.set_entry_point(\"operation\")\n",
    "\n",
    "app= graph.compile()\n",
    "\n",
    "app.invoke({\"name\": \"John\", \"values\": [1,2,3,4], \"operation\": \"*\"})"
   ]
  },
  {
   "cell_type": "code",
   "execution_count": 37,
   "id": "a88ab2a2",
   "metadata": {},
   "outputs": [
    {
     "data": {
      "text/plain": [
       "{'name': 'John',\n",
       " 'values': [1, 2, 3, 4],\n",
       " 'operation': '+',\n",
       " 'result': 'Hey John, your sum is 10'}"
      ]
     },
     "execution_count": 37,
     "metadata": {},
     "output_type": "execute_result"
    }
   ],
   "source": [
    "app.invoke({\"name\": \"John\", \"values\": [1,2,3,4], \"operation\": \"+\"})"
   ]
  },
  {
   "cell_type": "markdown",
   "id": "c929d2ad",
   "metadata": {},
   "source": [
    "# Sequential Graph\n",
    "\n",
    "### Multiple Nodes"
   ]
  },
  {
   "cell_type": "code",
   "execution_count": 38,
   "id": "4f22acba",
   "metadata": {},
   "outputs": [],
   "source": [
    "from typing import TypedDict # Imports all the data types we need\n",
    "from langgraph.graph import StateGraph"
   ]
  },
  {
   "cell_type": "code",
   "execution_count": 43,
   "id": "7f2c7278",
   "metadata": {},
   "outputs": [],
   "source": [
    "class AgentState(TypedDict):\n",
    "    name : str\n",
    "    age : str\n",
    "    final : str\n",
    "\n",
    "def first_node(state:AgentState) -> AgentState:\n",
    "    \"\"\"This is the first node of our sequence\"\"\"\n",
    "\n",
    "    state[\"final\"] = f\"Hi {state['name']}!\"\n",
    "    return state\n",
    "\n",
    "def second_node(state:AgentState) -> AgentState:\n",
    "    \"\"\"This is the second node of our sequence\"\"\"\n",
    "\n",
    "    state[\"final\"] = state[\"final\"] + f\" You are {state['age']} years old!\"\n",
    "\n",
    "    return state"
   ]
  },
  {
   "cell_type": "markdown",
   "id": "4e50f96f",
   "metadata": {},
   "source": [
    "### Graph:"
   ]
  },
  {
   "cell_type": "code",
   "execution_count": null,
   "id": "2a8cfbbb",
   "metadata": {},
   "outputs": [],
   "source": [
    "graph = StateGraph(AgentState)\n",
    "\n",
    "graph.add_node(\"first_node\", first_node)\n",
    "graph.add_node(\"second_node\", second_node)\n",
    "\n",
    "graph.set_entry_point(\"first_node\")\n",
    "graph.set_finish_point(\"second_node\")\n",
    "\n",
    "graph.add_edge(\"first_node\", \"second_node\")\n",
    "\n",
    "app = graph.compile()\n",
    "\n"
   ]
  },
  {
   "cell_type": "code",
   "execution_count": 51,
   "id": "65e30dce",
   "metadata": {},
   "outputs": [
    {
     "data": {
      "text/plain": [
       "{'name': 'Phil', 'age': '47', 'final': 'Hi Phil! You are 47 years old!'}"
      ]
     },
     "execution_count": 51,
     "metadata": {},
     "output_type": "execute_result"
    }
   ],
   "source": [
    "app.invoke({\"name\": \"Phil\", \"age\": \"47\"})"
   ]
  },
  {
   "cell_type": "code",
   "execution_count": 54,
   "id": "3f53c1d4",
   "metadata": {},
   "outputs": [
    {
     "data": {
      "image/png": "[encoded data removed]",
      "text/plain": [
       "<IPython.core.display.Image object>"
      ]
     },
     "metadata": {},
     "output_type": "display_data"
    }
   ],
   "source": [
    "from IPython.display import display, Image\n",
    "\n",
    "display(Image(app.get_graph().draw_mermaid_png()))"
   ]
  },
  {
   "cell_type": "markdown",
   "id": "761c83ef",
   "metadata": {},
   "source": [
    "## Exercise"
   ]
  },
  {
   "cell_type": "code",
   "execution_count": 75,
   "id": "a27ccfbf",
   "metadata": {},
   "outputs": [],
   "source": [
    "class AgentState(TypedDict):\n",
    "    name : str\n",
    "    age: int\n",
    "    skills : List[str]\n",
    "    final :  str\n",
    "\n",
    "def welcome(state):\n",
    "    state['final'] = f\"Hi {state['name']}\"\n",
    "    return state\n",
    "def age(state):\n",
    "    state['final'] =  state['final'] + f\", you are {state['age']} years old.\"\n",
    "    return state\n",
    "def skills(state):\n",
    "    state['final'] = state['final'] + f\" Your skills are: {', '.join((state['skills']))}\"\n",
    "    return state\n",
    "\n",
    "graph = StateGraph(AgentState)\n",
    "\n",
    "graph.add_node(\"welcome\", welcome)\n",
    "graph.add_node(\"age\", age)\n",
    "graph.add_node(\"skills\", skills)\n",
    "\n",
    "graph.add_edge(\"welcome\", \"age\")\n",
    "graph.add_edge(\"age\", \"skills\")\n",
    "\n",
    "graph.set_entry_point(\"welcome\")\n",
    "graph.set_finish_point(\"skills\")\n",
    "\n",
    "app=graph.compile()"
   ]
  },
  {
   "cell_type": "code",
   "execution_count": 76,
   "id": "522c2848",
   "metadata": {},
   "outputs": [
    {
     "data": {
      "text/plain": [
       "{'name': 'Phil',\n",
       " 'age': '47',\n",
       " 'skills': ['python', 'ML', 'Gen AI'],\n",
       " 'final': 'Hi Phil, you are 47 years old. Your skills are: python, ML, Gen AI'}"
      ]
     },
     "execution_count": 76,
     "metadata": {},
     "output_type": "execute_result"
    }
   ],
   "source": [
    "app.invoke({\"name\": \"Phil\", \"age\": \"47\", \"skills\": [\"python\", \"ML\", \"Gen AI\"] })"
   ]
  },
  {
   "cell_type": "code",
   "execution_count": 80,
   "id": "f61270fd",
   "metadata": {},
   "outputs": [
    {
     "name": "stdout",
     "output_type": "stream",
     "text": [
      "python ML Gen AI\n"
     ]
    }
   ],
   "source": [
    "skills = ['python', 'ML', 'Gen AI']\n",
    "skills_string = ' '.join(skills)\n",
    "print(skills_string)"
   ]
  }
 ],
 "metadata": {
  "kernelspec": {
   "display_name": "Python 3",
   "language": "python",
   "name": "python3"
  },
  "language_info": {
   "codemirror_mode": {
    "name": "ipython",
    "version": 3
   },
   "file_extension": ".py",
   "mimetype": "text/x-python",
   "name": "python",
   "nbconvert_exporter": "python",
   "pygments_lexer": "ipython3",
   "version": "3.10.16"
  }
 },
 "nbformat": 4,
 "nbformat_minor": 5
}
